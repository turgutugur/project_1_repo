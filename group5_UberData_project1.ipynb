{
 "cells": [
  {
   "cell_type": "code",
   "execution_count": 1,
   "metadata": {},
   "outputs": [],
   "source": [
    "#Dependencies\n",
    "import matplotlib.pyplot as plt\n",
    "import pandas as pd \n",
    "import numpy as np\n",
    "from scipy import stats \n",
    "import warnings \n",
    "warnings.filterwarnings(\"ignore\")\n",
    "\n",
    "# Incorporated citipy to determine city based on latitude and longitude\n",
    "from citipy import citipy\n"
   ]
  },
  {
   "cell_type": "code",
   "execution_count": 2,
   "metadata": {
    "scrolled": false
   },
   "outputs": [],
   "source": [
    "#path to uber csv \n",
    "\n",
    "file=\"uber.csv\"\n",
    "\n",
    "#read into data\n",
    "uber_df= pd.read_csv(file)\n",
    "uber_df=uber_df.head(100)\n"
   ]
  },
  {
   "cell_type": "code",
   "execution_count": 3,
   "metadata": {},
   "outputs": [
    {
     "data": {
      "text/html": [
       "<div>\n",
       "<style scoped>\n",
       "    .dataframe tbody tr th:only-of-type {\n",
       "        vertical-align: middle;\n",
       "    }\n",
       "\n",
       "    .dataframe tbody tr th {\n",
       "        vertical-align: top;\n",
       "    }\n",
       "\n",
       "    .dataframe thead th {\n",
       "        text-align: right;\n",
       "    }\n",
       "</style>\n",
       "<table border=\"1\" class=\"dataframe\">\n",
       "  <thead>\n",
       "    <tr style=\"text-align: right;\">\n",
       "      <th></th>\n",
       "      <th>Unnamed: 0</th>\n",
       "      <th>key</th>\n",
       "      <th>fare_amount</th>\n",
       "      <th>pickup_datetime</th>\n",
       "      <th>pickup_longitude</th>\n",
       "      <th>pickup_latitude</th>\n",
       "      <th>dropoff_longitude</th>\n",
       "      <th>dropoff_latitude</th>\n",
       "      <th>passenger_count</th>\n",
       "      <th>City</th>\n",
       "    </tr>\n",
       "  </thead>\n",
       "  <tbody>\n",
       "    <tr>\n",
       "      <th>0</th>\n",
       "      <td>24238194</td>\n",
       "      <td>2015-05-07 19:52:06.0000003</td>\n",
       "      <td>7.5</td>\n",
       "      <td>2015-05-07 19:52:06 UTC</td>\n",
       "      <td>-73.999817</td>\n",
       "      <td>40.738354</td>\n",
       "      <td>-73.999512</td>\n",
       "      <td>40.723217</td>\n",
       "      <td>1</td>\n",
       "      <td>new york</td>\n",
       "    </tr>\n",
       "    <tr>\n",
       "      <th>1</th>\n",
       "      <td>27835199</td>\n",
       "      <td>2009-07-17 20:04:56.0000002</td>\n",
       "      <td>7.7</td>\n",
       "      <td>2009-07-17 20:04:56 UTC</td>\n",
       "      <td>-73.994355</td>\n",
       "      <td>40.728225</td>\n",
       "      <td>-73.994710</td>\n",
       "      <td>40.750325</td>\n",
       "      <td>1</td>\n",
       "      <td>new york</td>\n",
       "    </tr>\n",
       "    <tr>\n",
       "      <th>2</th>\n",
       "      <td>44984355</td>\n",
       "      <td>2009-08-24 21:45:00.00000061</td>\n",
       "      <td>12.9</td>\n",
       "      <td>2009-08-24 21:45:00 UTC</td>\n",
       "      <td>-74.005043</td>\n",
       "      <td>40.740770</td>\n",
       "      <td>-73.962565</td>\n",
       "      <td>40.772647</td>\n",
       "      <td>1</td>\n",
       "      <td>new york</td>\n",
       "    </tr>\n",
       "    <tr>\n",
       "      <th>3</th>\n",
       "      <td>25894730</td>\n",
       "      <td>2009-06-26 08:22:21.0000001</td>\n",
       "      <td>5.3</td>\n",
       "      <td>2009-06-26 08:22:21 UTC</td>\n",
       "      <td>-73.976124</td>\n",
       "      <td>40.790844</td>\n",
       "      <td>-73.965316</td>\n",
       "      <td>40.803349</td>\n",
       "      <td>3</td>\n",
       "      <td>guttenberg</td>\n",
       "    </tr>\n",
       "    <tr>\n",
       "      <th>4</th>\n",
       "      <td>17610152</td>\n",
       "      <td>2014-08-28 17:47:00.000000188</td>\n",
       "      <td>16.0</td>\n",
       "      <td>2014-08-28 17:47:00 UTC</td>\n",
       "      <td>-73.925023</td>\n",
       "      <td>40.744085</td>\n",
       "      <td>-73.973082</td>\n",
       "      <td>40.761247</td>\n",
       "      <td>5</td>\n",
       "      <td>new york</td>\n",
       "    </tr>\n",
       "    <tr>\n",
       "      <th>...</th>\n",
       "      <td>...</td>\n",
       "      <td>...</td>\n",
       "      <td>...</td>\n",
       "      <td>...</td>\n",
       "      <td>...</td>\n",
       "      <td>...</td>\n",
       "      <td>...</td>\n",
       "      <td>...</td>\n",
       "      <td>...</td>\n",
       "      <td>...</td>\n",
       "    </tr>\n",
       "    <tr>\n",
       "      <th>95</th>\n",
       "      <td>25431833</td>\n",
       "      <td>2015-04-11 08:47:47.0000001</td>\n",
       "      <td>9.5</td>\n",
       "      <td>2015-04-11 08:47:47 UTC</td>\n",
       "      <td>-73.978432</td>\n",
       "      <td>40.752399</td>\n",
       "      <td>-74.000427</td>\n",
       "      <td>40.742119</td>\n",
       "      <td>1</td>\n",
       "      <td>weehawken</td>\n",
       "    </tr>\n",
       "    <tr>\n",
       "      <th>96</th>\n",
       "      <td>44792012</td>\n",
       "      <td>2011-10-03 20:29:00.000000179</td>\n",
       "      <td>4.5</td>\n",
       "      <td>2011-10-03 20:29:00 UTC</td>\n",
       "      <td>-73.990055</td>\n",
       "      <td>40.756413</td>\n",
       "      <td>-73.983047</td>\n",
       "      <td>40.756727</td>\n",
       "      <td>3</td>\n",
       "      <td>weehawken</td>\n",
       "    </tr>\n",
       "    <tr>\n",
       "      <th>97</th>\n",
       "      <td>18571020</td>\n",
       "      <td>2010-04-26 03:12:44.0000001</td>\n",
       "      <td>3.3</td>\n",
       "      <td>2010-04-26 03:12:44 UTC</td>\n",
       "      <td>-73.982326</td>\n",
       "      <td>40.731314</td>\n",
       "      <td>-73.989649</td>\n",
       "      <td>40.734398</td>\n",
       "      <td>1</td>\n",
       "      <td>new york</td>\n",
       "    </tr>\n",
       "    <tr>\n",
       "      <th>98</th>\n",
       "      <td>37942404</td>\n",
       "      <td>2011-11-18 09:51:00.000000166</td>\n",
       "      <td>30.9</td>\n",
       "      <td>2011-11-18 09:51:00 UTC</td>\n",
       "      <td>-73.995888</td>\n",
       "      <td>40.759078</td>\n",
       "      <td>-73.865005</td>\n",
       "      <td>40.770452</td>\n",
       "      <td>1</td>\n",
       "      <td>weehawken</td>\n",
       "    </tr>\n",
       "    <tr>\n",
       "      <th>99</th>\n",
       "      <td>29024472</td>\n",
       "      <td>2009-08-30 14:03:55.0000002</td>\n",
       "      <td>26.9</td>\n",
       "      <td>2009-08-30 14:03:55 UTC</td>\n",
       "      <td>-73.990137</td>\n",
       "      <td>40.756007</td>\n",
       "      <td>-73.929361</td>\n",
       "      <td>40.774553</td>\n",
       "      <td>1</td>\n",
       "      <td>weehawken</td>\n",
       "    </tr>\n",
       "  </tbody>\n",
       "</table>\n",
       "<p>100 rows × 10 columns</p>\n",
       "</div>"
      ],
      "text/plain": [
       "    Unnamed: 0                            key  fare_amount  \\\n",
       "0     24238194    2015-05-07 19:52:06.0000003          7.5   \n",
       "1     27835199    2009-07-17 20:04:56.0000002          7.7   \n",
       "2     44984355   2009-08-24 21:45:00.00000061         12.9   \n",
       "3     25894730    2009-06-26 08:22:21.0000001          5.3   \n",
       "4     17610152  2014-08-28 17:47:00.000000188         16.0   \n",
       "..         ...                            ...          ...   \n",
       "95    25431833    2015-04-11 08:47:47.0000001          9.5   \n",
       "96    44792012  2011-10-03 20:29:00.000000179          4.5   \n",
       "97    18571020    2010-04-26 03:12:44.0000001          3.3   \n",
       "98    37942404  2011-11-18 09:51:00.000000166         30.9   \n",
       "99    29024472    2009-08-30 14:03:55.0000002         26.9   \n",
       "\n",
       "            pickup_datetime  pickup_longitude  pickup_latitude  \\\n",
       "0   2015-05-07 19:52:06 UTC        -73.999817        40.738354   \n",
       "1   2009-07-17 20:04:56 UTC        -73.994355        40.728225   \n",
       "2   2009-08-24 21:45:00 UTC        -74.005043        40.740770   \n",
       "3   2009-06-26 08:22:21 UTC        -73.976124        40.790844   \n",
       "4   2014-08-28 17:47:00 UTC        -73.925023        40.744085   \n",
       "..                      ...               ...              ...   \n",
       "95  2015-04-11 08:47:47 UTC        -73.978432        40.752399   \n",
       "96  2011-10-03 20:29:00 UTC        -73.990055        40.756413   \n",
       "97  2010-04-26 03:12:44 UTC        -73.982326        40.731314   \n",
       "98  2011-11-18 09:51:00 UTC        -73.995888        40.759078   \n",
       "99  2009-08-30 14:03:55 UTC        -73.990137        40.756007   \n",
       "\n",
       "    dropoff_longitude  dropoff_latitude  passenger_count        City  \n",
       "0          -73.999512         40.723217                1    new york  \n",
       "1          -73.994710         40.750325                1    new york  \n",
       "2          -73.962565         40.772647                1    new york  \n",
       "3          -73.965316         40.803349                3  guttenberg  \n",
       "4          -73.973082         40.761247                5    new york  \n",
       "..                ...               ...              ...         ...  \n",
       "95         -74.000427         40.742119                1   weehawken  \n",
       "96         -73.983047         40.756727                3   weehawken  \n",
       "97         -73.989649         40.734398                1    new york  \n",
       "98         -73.865005         40.770452                1   weehawken  \n",
       "99         -73.929361         40.774553                1   weehawken  \n",
       "\n",
       "[100 rows x 10 columns]"
      ]
     },
     "execution_count": 3,
     "metadata": {},
     "output_type": "execute_result"
    }
   ],
   "source": [
    "# List for holding lat_lngs and cities\n",
    "lat_lngs = []\n",
    "cities = []\n",
    "\n",
    "pickup_lats=uber_df[\"pickup_latitude\"]\n",
    "pickup_lngs=uber_df[\"pickup_longitude\"]\n",
    "#lat_lngs=zip(pickup_lats,pickup_lngs)\n",
    "\n",
    "uber_df[\"City\"]=\"x\"\n",
    "\n",
    "for index, row in uber_df.iterrows():\n",
    "    city=citipy.nearest_city(row[\"pickup_latitude\"],row[\"pickup_longitude\"]).city_name\n",
    "    uber_df.loc[index,\"City\"]=city  \n",
    "       \n",
    "# Print the city count to confirm sufficient count\n",
    "len(cities)\n",
    "uber_df"
   ]
  },
  {
   "cell_type": "code",
   "execution_count": 4,
   "metadata": {},
   "outputs": [],
   "source": [
    "# vectorized haversine function\n",
    "def haversine(lat1, lon1, lat2, lon2, to_radians=True, earth_radius=6371):\n",
    "    \"\"\"\n",
    "    slightly modified version: of http://stackoverflow.com/a/29546836/2901002\n",
    "\n",
    "    Calculate the great circle distance between two points\n",
    "    on the earth (specified in decimal degrees or in radians)\n",
    "\n",
    "    All (lat, lon) coordinates must have numeric dtypes and be of equal length.\n",
    "\n",
    "    \"\"\"\n",
    "    if to_radians:\n",
    "        lat1, lon1, lat2, lon2 = np.radians([lat1, lon1, lat2, lon2])\n",
    "\n",
    "    a = np.sin((lat2-lat1)/2.0)**2 + \\\n",
    "        np.cos(lat1) * np.cos(lat2) * np.sin((lon2-lon1)/2.0)**2\n",
    "\n",
    "    return earth_radius * 2 * np.arcsin(np.sqrt(a))\n"
   ]
  },
  {
   "cell_type": "code",
   "execution_count": 5,
   "metadata": {},
   "outputs": [],
   "source": [
    "#distance \n",
    "\n",
    "dropoff_lats=uber_df[\"pickup_longitude\"]\n",
    "dropoff_lngs=uber_df[\"pickup_longitude\"]\n",
    "\n",
    "uber_df[\"Distance\"]=0\n",
    "\n",
    "for index, row in uber_df.iterrows():\n",
    "    distance=haversine(row[\"pickup_latitude\"],row[\"pickup_longitude\"],\\\n",
    "                       row[\"dropoff_latitude\"], row[\"dropoff_longitude\"],to_radians=True, earth_radius=6371)\n",
    "    uber_df.loc[index,\"Distance\"]=distance  \n"
   ]
  },
  {
   "cell_type": "code",
   "execution_count": 6,
   "metadata": {},
   "outputs": [],
   "source": [
    "#binning \n",
    "\n",
    "#set time of day bins\n",
    "timeofday=[0, 5, 12, 17, 24]\n",
    "\n",
    "uber_df.pickup_datetime= pd.to_datetime(uber_df.pickup_datetime)\n",
    "\n",
    "#labels for bins\n",
    "times=[\"Night\",\"Morning\",\"Afternoon\",\"Evening\"]\n",
    "\n",
    "uber_df['Time of Day'] = pd.cut(uber_df.pickup_datetime.dt.hour, timeofday, labels=times, right=False)\n"
   ]
  },
  {
   "cell_type": "code",
   "execution_count": 7,
   "metadata": {
    "scrolled": true
   },
   "outputs": [
    {
     "data": {
      "text/html": [
       "<div>\n",
       "<style scoped>\n",
       "    .dataframe tbody tr th:only-of-type {\n",
       "        vertical-align: middle;\n",
       "    }\n",
       "\n",
       "    .dataframe tbody tr th {\n",
       "        vertical-align: top;\n",
       "    }\n",
       "\n",
       "    .dataframe thead th {\n",
       "        text-align: right;\n",
       "    }\n",
       "</style>\n",
       "<table border=\"1\" class=\"dataframe\">\n",
       "  <thead>\n",
       "    <tr style=\"text-align: right;\">\n",
       "      <th></th>\n",
       "      <th>Unnamed: 0</th>\n",
       "      <th>key</th>\n",
       "      <th>fare_amount</th>\n",
       "      <th>pickup_datetime</th>\n",
       "      <th>pickup_longitude</th>\n",
       "      <th>pickup_latitude</th>\n",
       "      <th>dropoff_longitude</th>\n",
       "      <th>dropoff_latitude</th>\n",
       "      <th>passenger_count</th>\n",
       "      <th>City</th>\n",
       "      <th>Distance</th>\n",
       "      <th>Time of Day</th>\n",
       "    </tr>\n",
       "  </thead>\n",
       "  <tbody>\n",
       "    <tr>\n",
       "      <th>0</th>\n",
       "      <td>24238194</td>\n",
       "      <td>2015-05-07 19:52:06.0000003</td>\n",
       "      <td>7.5</td>\n",
       "      <td>2015-05-07 19:52:06+00:00</td>\n",
       "      <td>-73.999817</td>\n",
       "      <td>40.738354</td>\n",
       "      <td>-73.999512</td>\n",
       "      <td>40.723217</td>\n",
       "      <td>1</td>\n",
       "      <td>new york</td>\n",
       "      <td>1.683323</td>\n",
       "      <td>Evening</td>\n",
       "    </tr>\n",
       "    <tr>\n",
       "      <th>1</th>\n",
       "      <td>27835199</td>\n",
       "      <td>2009-07-17 20:04:56.0000002</td>\n",
       "      <td>7.7</td>\n",
       "      <td>2009-07-17 20:04:56+00:00</td>\n",
       "      <td>-73.994355</td>\n",
       "      <td>40.728225</td>\n",
       "      <td>-73.994710</td>\n",
       "      <td>40.750325</td>\n",
       "      <td>1</td>\n",
       "      <td>new york</td>\n",
       "      <td>2.457590</td>\n",
       "      <td>Evening</td>\n",
       "    </tr>\n",
       "    <tr>\n",
       "      <th>2</th>\n",
       "      <td>44984355</td>\n",
       "      <td>2009-08-24 21:45:00.00000061</td>\n",
       "      <td>12.9</td>\n",
       "      <td>2009-08-24 21:45:00+00:00</td>\n",
       "      <td>-74.005043</td>\n",
       "      <td>40.740770</td>\n",
       "      <td>-73.962565</td>\n",
       "      <td>40.772647</td>\n",
       "      <td>1</td>\n",
       "      <td>new york</td>\n",
       "      <td>5.036377</td>\n",
       "      <td>Evening</td>\n",
       "    </tr>\n",
       "    <tr>\n",
       "      <th>3</th>\n",
       "      <td>25894730</td>\n",
       "      <td>2009-06-26 08:22:21.0000001</td>\n",
       "      <td>5.3</td>\n",
       "      <td>2009-06-26 08:22:21+00:00</td>\n",
       "      <td>-73.976124</td>\n",
       "      <td>40.790844</td>\n",
       "      <td>-73.965316</td>\n",
       "      <td>40.803349</td>\n",
       "      <td>3</td>\n",
       "      <td>guttenberg</td>\n",
       "      <td>1.661683</td>\n",
       "      <td>Morning</td>\n",
       "    </tr>\n",
       "    <tr>\n",
       "      <th>4</th>\n",
       "      <td>17610152</td>\n",
       "      <td>2014-08-28 17:47:00.000000188</td>\n",
       "      <td>16.0</td>\n",
       "      <td>2014-08-28 17:47:00+00:00</td>\n",
       "      <td>-73.925023</td>\n",
       "      <td>40.744085</td>\n",
       "      <td>-73.973082</td>\n",
       "      <td>40.761247</td>\n",
       "      <td>5</td>\n",
       "      <td>new york</td>\n",
       "      <td>4.475450</td>\n",
       "      <td>Evening</td>\n",
       "    </tr>\n",
       "    <tr>\n",
       "      <th>...</th>\n",
       "      <td>...</td>\n",
       "      <td>...</td>\n",
       "      <td>...</td>\n",
       "      <td>...</td>\n",
       "      <td>...</td>\n",
       "      <td>...</td>\n",
       "      <td>...</td>\n",
       "      <td>...</td>\n",
       "      <td>...</td>\n",
       "      <td>...</td>\n",
       "      <td>...</td>\n",
       "      <td>...</td>\n",
       "    </tr>\n",
       "    <tr>\n",
       "      <th>95</th>\n",
       "      <td>25431833</td>\n",
       "      <td>2015-04-11 08:47:47.0000001</td>\n",
       "      <td>9.5</td>\n",
       "      <td>2015-04-11 08:47:47+00:00</td>\n",
       "      <td>-73.978432</td>\n",
       "      <td>40.752399</td>\n",
       "      <td>-74.000427</td>\n",
       "      <td>40.742119</td>\n",
       "      <td>1</td>\n",
       "      <td>weehawken</td>\n",
       "      <td>2.177182</td>\n",
       "      <td>Morning</td>\n",
       "    </tr>\n",
       "    <tr>\n",
       "      <th>96</th>\n",
       "      <td>44792012</td>\n",
       "      <td>2011-10-03 20:29:00.000000179</td>\n",
       "      <td>4.5</td>\n",
       "      <td>2011-10-03 20:29:00+00:00</td>\n",
       "      <td>-73.990055</td>\n",
       "      <td>40.756413</td>\n",
       "      <td>-73.983047</td>\n",
       "      <td>40.756727</td>\n",
       "      <td>3</td>\n",
       "      <td>weehawken</td>\n",
       "      <td>0.591309</td>\n",
       "      <td>Evening</td>\n",
       "    </tr>\n",
       "    <tr>\n",
       "      <th>97</th>\n",
       "      <td>18571020</td>\n",
       "      <td>2010-04-26 03:12:44.0000001</td>\n",
       "      <td>3.3</td>\n",
       "      <td>2010-04-26 03:12:44+00:00</td>\n",
       "      <td>-73.982326</td>\n",
       "      <td>40.731314</td>\n",
       "      <td>-73.989649</td>\n",
       "      <td>40.734398</td>\n",
       "      <td>1</td>\n",
       "      <td>new york</td>\n",
       "      <td>0.705920</td>\n",
       "      <td>Night</td>\n",
       "    </tr>\n",
       "    <tr>\n",
       "      <th>98</th>\n",
       "      <td>37942404</td>\n",
       "      <td>2011-11-18 09:51:00.000000166</td>\n",
       "      <td>30.9</td>\n",
       "      <td>2011-11-18 09:51:00+00:00</td>\n",
       "      <td>-73.995888</td>\n",
       "      <td>40.759078</td>\n",
       "      <td>-73.865005</td>\n",
       "      <td>40.770452</td>\n",
       "      <td>1</td>\n",
       "      <td>weehawken</td>\n",
       "      <td>11.095111</td>\n",
       "      <td>Morning</td>\n",
       "    </tr>\n",
       "    <tr>\n",
       "      <th>99</th>\n",
       "      <td>29024472</td>\n",
       "      <td>2009-08-30 14:03:55.0000002</td>\n",
       "      <td>26.9</td>\n",
       "      <td>2009-08-30 14:03:55+00:00</td>\n",
       "      <td>-73.990137</td>\n",
       "      <td>40.756007</td>\n",
       "      <td>-73.929361</td>\n",
       "      <td>40.774553</td>\n",
       "      <td>1</td>\n",
       "      <td>weehawken</td>\n",
       "      <td>5.518254</td>\n",
       "      <td>Afternoon</td>\n",
       "    </tr>\n",
       "  </tbody>\n",
       "</table>\n",
       "<p>93 rows × 12 columns</p>\n",
       "</div>"
      ],
      "text/plain": [
       "    Unnamed: 0                            key  fare_amount  \\\n",
       "0     24238194    2015-05-07 19:52:06.0000003          7.5   \n",
       "1     27835199    2009-07-17 20:04:56.0000002          7.7   \n",
       "2     44984355   2009-08-24 21:45:00.00000061         12.9   \n",
       "3     25894730    2009-06-26 08:22:21.0000001          5.3   \n",
       "4     17610152  2014-08-28 17:47:00.000000188         16.0   \n",
       "..         ...                            ...          ...   \n",
       "95    25431833    2015-04-11 08:47:47.0000001          9.5   \n",
       "96    44792012  2011-10-03 20:29:00.000000179          4.5   \n",
       "97    18571020    2010-04-26 03:12:44.0000001          3.3   \n",
       "98    37942404  2011-11-18 09:51:00.000000166         30.9   \n",
       "99    29024472    2009-08-30 14:03:55.0000002         26.9   \n",
       "\n",
       "             pickup_datetime  pickup_longitude  pickup_latitude  \\\n",
       "0  2015-05-07 19:52:06+00:00        -73.999817        40.738354   \n",
       "1  2009-07-17 20:04:56+00:00        -73.994355        40.728225   \n",
       "2  2009-08-24 21:45:00+00:00        -74.005043        40.740770   \n",
       "3  2009-06-26 08:22:21+00:00        -73.976124        40.790844   \n",
       "4  2014-08-28 17:47:00+00:00        -73.925023        40.744085   \n",
       "..                       ...               ...              ...   \n",
       "95 2015-04-11 08:47:47+00:00        -73.978432        40.752399   \n",
       "96 2011-10-03 20:29:00+00:00        -73.990055        40.756413   \n",
       "97 2010-04-26 03:12:44+00:00        -73.982326        40.731314   \n",
       "98 2011-11-18 09:51:00+00:00        -73.995888        40.759078   \n",
       "99 2009-08-30 14:03:55+00:00        -73.990137        40.756007   \n",
       "\n",
       "    dropoff_longitude  dropoff_latitude  passenger_count        City  \\\n",
       "0          -73.999512         40.723217                1    new york   \n",
       "1          -73.994710         40.750325                1    new york   \n",
       "2          -73.962565         40.772647                1    new york   \n",
       "3          -73.965316         40.803349                3  guttenberg   \n",
       "4          -73.973082         40.761247                5    new york   \n",
       "..                ...               ...              ...         ...   \n",
       "95         -74.000427         40.742119                1   weehawken   \n",
       "96         -73.983047         40.756727                3   weehawken   \n",
       "97         -73.989649         40.734398                1    new york   \n",
       "98         -73.865005         40.770452                1   weehawken   \n",
       "99         -73.929361         40.774553                1   weehawken   \n",
       "\n",
       "     Distance Time of Day  \n",
       "0    1.683323     Evening  \n",
       "1    2.457590     Evening  \n",
       "2    5.036377     Evening  \n",
       "3    1.661683     Morning  \n",
       "4    4.475450     Evening  \n",
       "..        ...         ...  \n",
       "95   2.177182     Morning  \n",
       "96   0.591309     Evening  \n",
       "97   0.705920       Night  \n",
       "98  11.095111     Morning  \n",
       "99   5.518254   Afternoon  \n",
       "\n",
       "[93 rows x 12 columns]"
      ]
     },
     "execution_count": 7,
     "metadata": {},
     "output_type": "execute_result"
    }
   ],
   "source": [
    "#remove distance 0\n",
    "\n",
    "uber_df_cleaned=uber_df.loc[uber_df[\"Distance\"]!=0]\n",
    "\n",
    "uber_df_cleaned"
   ]
  },
  {
   "cell_type": "markdown",
   "metadata": {},
   "source": [
    "## Adding in Zipcodes from Geopy and Income from Census data "
   ]
  },
  {
   "cell_type": "code",
   "execution_count": 8,
   "metadata": {},
   "outputs": [
    {
     "name": "stdout",
     "output_type": "stream",
     "text": [
      "40.76404,-73.972987 zipcode not found, passing... \n"
     ]
    }
   ],
   "source": [
    "from geopy.geocoders import Nominatim\n",
    "geolocator = Nominatim(user_agent=\"geoapiExercises\")\n",
    "\n",
    "uber_df_cleaned[\"Zipcode\"]=0\n",
    "\n",
    "\n",
    "\n",
    "for index, row in uber_df_cleaned.iterrows():\n",
    "    try: \n",
    "        location = geolocator.reverse(str(row[\"pickup_latitude\"])+\",\"+str(row[\"pickup_longitude\"]))\n",
    "        zipcode=list(location.raw.values())[7][\"postcode\"]\n",
    "        uber_df_cleaned.loc[index,\"Zipcode\"]=zipcode\n",
    "    \n",
    "    except:\n",
    "        print(str(row[\"pickup_latitude\"])+\",\"+str(row[\"pickup_longitude\"])+\" zipcode not found, passing... \")\n",
    "        pass\n"
   ]
  },
  {
   "cell_type": "code",
   "execution_count": 9,
   "metadata": {
    "scrolled": true
   },
   "outputs": [],
   "source": [
    "#where zipcodes were not found, leave behind \n",
    "zipcodez=uber_df_cleaned.loc[uber_df_cleaned[\"Zipcode\"]!=0]"
   ]
  },
  {
   "cell_type": "code",
   "execution_count": 10,
   "metadata": {},
   "outputs": [
    {
     "data": {
      "text/plain": [
       "2012.0"
      ]
     },
     "execution_count": 10,
     "metadata": {},
     "output_type": "execute_result"
    }
   ],
   "source": [
    "#average year of date times \n",
    "\n",
    "year=round(uber_df_cleaned.pickup_datetime.dt.year.mean(),0)\n",
    "year"
   ]
  },
  {
   "cell_type": "code",
   "execution_count": 11,
   "metadata": {
    "scrolled": false
   },
   "outputs": [
    {
     "ename": "CensusException",
     "evalue": "Sorry, the system is currently undergoing maintenance or is busy.  Please try again later.",
     "output_type": "error",
     "traceback": [
      "\u001b[1;31m--------------------------------------------------\u001b[0m",
      "\u001b[1;31mCensusException\u001b[0m  Traceback (most recent call last)",
      "\u001b[1;32m<ipython-input-11-03581e865b29>\u001b[0m in \u001b[0;36m<module>\u001b[1;34m\u001b[0m\n\u001b[0;32m      5\u001b[0m \u001b[0mc\u001b[0m \u001b[1;33m=\u001b[0m \u001b[0mCensus\u001b[0m\u001b[1;33m(\u001b[0m\u001b[0mc_key\u001b[0m\u001b[1;33m,\u001b[0m \u001b[0myear\u001b[0m\u001b[1;33m=\u001b[0m\u001b[1;36m2012\u001b[0m\u001b[1;33m)\u001b[0m\u001b[1;33m\u001b[0m\u001b[1;33m\u001b[0m\u001b[0m\n\u001b[0;32m      6\u001b[0m \u001b[1;33m\u001b[0m\u001b[0m\n\u001b[1;32m----> 7\u001b[1;33m \u001b[0mcensus_data\u001b[0m \u001b[1;33m=\u001b[0m \u001b[0mc\u001b[0m\u001b[1;33m.\u001b[0m\u001b[0macs5\u001b[0m\u001b[1;33m.\u001b[0m\u001b[0mget\u001b[0m\u001b[1;33m(\u001b[0m\u001b[1;33m(\u001b[0m\u001b[1;34m\"NAME\"\u001b[0m\u001b[1;33m,\u001b[0m \u001b[1;34m\"B19013_001E\"\u001b[0m\u001b[1;33m)\u001b[0m\u001b[1;33m,\u001b[0m \u001b[1;33m{\u001b[0m\u001b[1;34m'for'\u001b[0m\u001b[1;33m:\u001b[0m \u001b[1;34m'zip code tabulation area:*'\u001b[0m\u001b[1;33m}\u001b[0m\u001b[1;33m)\u001b[0m\u001b[1;33m\u001b[0m\u001b[1;33m\u001b[0m\u001b[0m\n\u001b[0m\u001b[0;32m      8\u001b[0m \u001b[1;33m\u001b[0m\u001b[0m\n\u001b[0;32m      9\u001b[0m \u001b[1;31m# Convert to DataFrame\u001b[0m\u001b[1;33m\u001b[0m\u001b[1;33m\u001b[0m\u001b[1;33m\u001b[0m\u001b[0m\n",
      "\u001b[1;32m~\\anaconda3\\envs\\pythondata\\lib\\site-packages\\census\\core.py\u001b[0m in \u001b[0;36mget\u001b[1;34m(self, *args, **kwargs)\u001b[0m\n\u001b[0;32m    311\u001b[0m         \u001b[0mself\u001b[0m\u001b[1;33m.\u001b[0m\u001b[0m_switch_endpoints\u001b[0m\u001b[1;33m(\u001b[0m\u001b[0mkwargs\u001b[0m\u001b[1;33m.\u001b[0m\u001b[0mget\u001b[0m\u001b[1;33m(\u001b[0m\u001b[1;34m'year'\u001b[0m\u001b[1;33m,\u001b[0m \u001b[0mself\u001b[0m\u001b[1;33m.\u001b[0m\u001b[0mdefault_year\u001b[0m\u001b[1;33m)\u001b[0m\u001b[1;33m)\u001b[0m\u001b[1;33m\u001b[0m\u001b[1;33m\u001b[0m\u001b[0m\n\u001b[0;32m    312\u001b[0m \u001b[1;33m\u001b[0m\u001b[0m\n\u001b[1;32m--> 313\u001b[1;33m         \u001b[1;32mreturn\u001b[0m \u001b[0msuper\u001b[0m\u001b[1;33m(\u001b[0m\u001b[0mACSClient\u001b[0m\u001b[1;33m,\u001b[0m \u001b[0mself\u001b[0m\u001b[1;33m)\u001b[0m\u001b[1;33m.\u001b[0m\u001b[0mget\u001b[0m\u001b[1;33m(\u001b[0m\u001b[1;33m*\u001b[0m\u001b[0margs\u001b[0m\u001b[1;33m,\u001b[0m \u001b[1;33m**\u001b[0m\u001b[0mkwargs\u001b[0m\u001b[1;33m)\u001b[0m\u001b[1;33m\u001b[0m\u001b[1;33m\u001b[0m\u001b[0m\n\u001b[0m\u001b[0;32m    314\u001b[0m \u001b[1;33m\u001b[0m\u001b[0m\n\u001b[0;32m    315\u001b[0m \u001b[1;33m\u001b[0m\u001b[0m\n",
      "\u001b[1;32m~\\anaconda3\\envs\\pythondata\\lib\\site-packages\\census\\core.py\u001b[0m in \u001b[0;36mget\u001b[1;34m(self, fields, geo, year, **kwargs)\u001b[0m\n\u001b[0;32m    157\u001b[0m         all_results = (self.query(forty_nine_fields, geo, year, sort_by_geoid=sort_by_geoid, **kwargs)\n\u001b[0;32m    158\u001b[0m                        for forty_nine_fields in chunks(fields, 49))\n\u001b[1;32m--> 159\u001b[1;33m         \u001b[0mmerged_results\u001b[0m \u001b[1;33m=\u001b[0m \u001b[1;33m[\u001b[0m\u001b[0mmerge\u001b[0m\u001b[1;33m(\u001b[0m\u001b[0mresult\u001b[0m\u001b[1;33m)\u001b[0m \u001b[1;32mfor\u001b[0m \u001b[0mresult\u001b[0m \u001b[1;32min\u001b[0m \u001b[0mzip\u001b[0m\u001b[1;33m(\u001b[0m\u001b[1;33m*\u001b[0m\u001b[0mall_results\u001b[0m\u001b[1;33m)\u001b[0m\u001b[1;33m]\u001b[0m\u001b[1;33m\u001b[0m\u001b[1;33m\u001b[0m\u001b[0m\n\u001b[0m\u001b[0;32m    160\u001b[0m \u001b[1;33m\u001b[0m\u001b[0m\n\u001b[0;32m    161\u001b[0m         \u001b[1;32mreturn\u001b[0m \u001b[0mmerged_results\u001b[0m\u001b[1;33m\u001b[0m\u001b[1;33m\u001b[0m\u001b[0m\n",
      "\u001b[1;32m~\\anaconda3\\envs\\pythondata\\lib\\site-packages\\census\\core.py\u001b[0m in \u001b[0;36m<genexpr>\u001b[1;34m(.0)\u001b[0m\n\u001b[0;32m    156\u001b[0m         \u001b[0msort_by_geoid\u001b[0m \u001b[1;33m=\u001b[0m \u001b[0mlen\u001b[0m\u001b[1;33m(\u001b[0m\u001b[0mfields\u001b[0m\u001b[1;33m)\u001b[0m \u001b[1;33m>\u001b[0m \u001b[1;36m49\u001b[0m \u001b[1;32mand\u001b[0m \u001b[1;33m(\u001b[0m\u001b[1;32mnot\u001b[0m \u001b[0myear\u001b[0m \u001b[1;32mor\u001b[0m \u001b[0myear\u001b[0m \u001b[1;33m>\u001b[0m \u001b[1;36m2009\u001b[0m\u001b[1;33m)\u001b[0m\u001b[1;33m\u001b[0m\u001b[1;33m\u001b[0m\u001b[0m\n\u001b[0;32m    157\u001b[0m         all_results = (self.query(forty_nine_fields, geo, year, sort_by_geoid=sort_by_geoid, **kwargs)\n\u001b[1;32m--> 158\u001b[1;33m                        for forty_nine_fields in chunks(fields, 49))\n\u001b[0m\u001b[0;32m    159\u001b[0m         \u001b[0mmerged_results\u001b[0m \u001b[1;33m=\u001b[0m \u001b[1;33m[\u001b[0m\u001b[0mmerge\u001b[0m\u001b[1;33m(\u001b[0m\u001b[0mresult\u001b[0m\u001b[1;33m)\u001b[0m \u001b[1;32mfor\u001b[0m \u001b[0mresult\u001b[0m \u001b[1;32min\u001b[0m \u001b[0mzip\u001b[0m\u001b[1;33m(\u001b[0m\u001b[1;33m*\u001b[0m\u001b[0mall_results\u001b[0m\u001b[1;33m)\u001b[0m\u001b[1;33m]\u001b[0m\u001b[1;33m\u001b[0m\u001b[1;33m\u001b[0m\u001b[0m\n\u001b[0;32m    160\u001b[0m \u001b[1;33m\u001b[0m\u001b[0m\n",
      "\u001b[1;32m~\\anaconda3\\envs\\pythondata\\lib\\site-packages\\census\\core.py\u001b[0m in \u001b[0;36mwrapper\u001b[1;34m(self, *args, **kwargs)\u001b[0m\n\u001b[0;32m     58\u001b[0m         \u001b[1;32mfor\u001b[0m \u001b[0m_\u001b[0m \u001b[1;32min\u001b[0m \u001b[0mrange\u001b[0m\u001b[1;33m(\u001b[0m\u001b[0mmax\u001b[0m\u001b[1;33m(\u001b[0m\u001b[0mself\u001b[0m\u001b[1;33m.\u001b[0m\u001b[0mretries\u001b[0m \u001b[1;33m-\u001b[0m \u001b[1;36m1\u001b[0m\u001b[1;33m,\u001b[0m \u001b[1;36m0\u001b[0m\u001b[1;33m)\u001b[0m\u001b[1;33m)\u001b[0m\u001b[1;33m:\u001b[0m\u001b[1;33m\u001b[0m\u001b[1;33m\u001b[0m\u001b[0m\n\u001b[0;32m     59\u001b[0m             \u001b[1;32mtry\u001b[0m\u001b[1;33m:\u001b[0m\u001b[1;33m\u001b[0m\u001b[1;33m\u001b[0m\u001b[0m\n\u001b[1;32m---> 60\u001b[1;33m                 \u001b[0mresult\u001b[0m \u001b[1;33m=\u001b[0m \u001b[0mfunc\u001b[0m\u001b[1;33m(\u001b[0m\u001b[0mself\u001b[0m\u001b[1;33m,\u001b[0m \u001b[1;33m*\u001b[0m\u001b[0margs\u001b[0m\u001b[1;33m,\u001b[0m \u001b[1;33m**\u001b[0m\u001b[0mkwargs\u001b[0m\u001b[1;33m)\u001b[0m\u001b[1;33m\u001b[0m\u001b[1;33m\u001b[0m\u001b[0m\n\u001b[0m\u001b[0;32m     61\u001b[0m             \u001b[1;32mexcept\u001b[0m \u001b[0mCensusException\u001b[0m \u001b[1;32mas\u001b[0m \u001b[0me\u001b[0m\u001b[1;33m:\u001b[0m\u001b[1;33m\u001b[0m\u001b[1;33m\u001b[0m\u001b[0m\n\u001b[0;32m     62\u001b[0m                 \u001b[1;32mif\u001b[0m \u001b[1;34m\"There was an error while running your query.  We've logged the error and we'll correct it ASAP.  Sorry for the inconvenience.\"\u001b[0m \u001b[1;32min\u001b[0m \u001b[0mstr\u001b[0m\u001b[1;33m(\u001b[0m\u001b[0me\u001b[0m\u001b[1;33m)\u001b[0m\u001b[1;33m:\u001b[0m\u001b[1;33m\u001b[0m\u001b[1;33m\u001b[0m\u001b[0m\n",
      "\u001b[1;32m~\\anaconda3\\envs\\pythondata\\lib\\site-packages\\census\\core.py\u001b[0m in \u001b[0;36mquery\u001b[1;34m(self, fields, geo, year, sort_by_geoid, **kwargs)\u001b[0m\n\u001b[0;32m    212\u001b[0m \u001b[1;33m\u001b[0m\u001b[0m\n\u001b[0;32m    213\u001b[0m         \u001b[1;32melse\u001b[0m\u001b[1;33m:\u001b[0m\u001b[1;33m\u001b[0m\u001b[1;33m\u001b[0m\u001b[0m\n\u001b[1;32m--> 214\u001b[1;33m             \u001b[1;32mraise\u001b[0m \u001b[0mCensusException\u001b[0m\u001b[1;33m(\u001b[0m\u001b[0mresp\u001b[0m\u001b[1;33m.\u001b[0m\u001b[0mtext\u001b[0m\u001b[1;33m)\u001b[0m\u001b[1;33m\u001b[0m\u001b[1;33m\u001b[0m\u001b[0m\n\u001b[0m\u001b[0;32m    215\u001b[0m \u001b[1;33m\u001b[0m\u001b[0m\n\u001b[0;32m    216\u001b[0m     \u001b[1;33m@\u001b[0m\u001b[0mlru_cache\u001b[0m\u001b[1;33m(\u001b[0m\u001b[0mmaxsize\u001b[0m\u001b[1;33m=\u001b[0m\u001b[1;36m1024\u001b[0m\u001b[1;33m)\u001b[0m\u001b[1;33m\u001b[0m\u001b[1;33m\u001b[0m\u001b[0m\n",
      "\u001b[1;31mCensusException\u001b[0m: Sorry, the system is currently undergoing maintenance or is busy.  Please try again later."
     ]
    }
   ],
   "source": [
    "from census import Census\n",
    "\n",
    "# Census API Key\n",
    "from api_key import c_key\n",
    "c = Census(c_key, year=2012)\n",
    "\n",
    "census_data = c.acs5.get((\"NAME\", \"B19013_001E\"), {'for': 'zip code tabulation area:*'})\n",
    "\n",
    "# Convert to DataFrame\n",
    "census_pd = pd.DataFrame(census_data)\n",
    "\n",
    "# Column Reordering\n",
    "census_pd = census_pd.rename(columns={\"B19013_001E\": \"Household Income\",\n",
    "                                      \"NAME\": \"Name\", \"zip code tabulation area\": \"Zipcode\"})\n",
    "census_pd"
   ]
  },
  {
   "cell_type": "code",
   "execution_count": null,
   "metadata": {},
   "outputs": [],
   "source": [
    "zipcoded=pd.merge(zipcodez,census_pd,how=\"left\",on=\"Zipcode\").dropna()\n",
    "zipcoded=zipcoded.loc[zipcoded[\"Household Income\"]>0]"
   ]
  },
  {
   "cell_type": "code",
   "execution_count": null,
   "metadata": {},
   "outputs": [],
   "source": [
    "#count number of rides per zipcode \n",
    "byincome=zipcoded.groupby(\"Household Income\")[\"fare_amount\"].sum()\n"
   ]
  },
  {
   "cell_type": "code",
   "execution_count": null,
   "metadata": {},
   "outputs": [],
   "source": [
    "# Create a Scatter Plot for income and number of rides \n",
    "x_values = zipcoded[\"Household Income\"].unique()\n",
    "y_values = byincome\n",
    "\n",
    "\n",
    "slope,inte,r,p,std_err=stats.linregress(x_values,y_values)\n",
    "fitline=slope*x_values + inte\n",
    "\n",
    "plt.scatter(x_values,y_values,alpha=.7)\n",
    "plt.plot(x_values,fitline,\"r-\")\n",
    "plt.xlabel('Household Income ($)')\n",
    "plt.ylabel(f'Number of Rides')\n",
    "\n",
    "plt.title(f'Number of Rides by Household Income (Census year 2012)')\n",
    "\n",
    "plt.show()"
   ]
  },
  {
   "cell_type": "code",
   "execution_count": null,
   "metadata": {},
   "outputs": [],
   "source": [
    "# Most Popular Pick up times & how it correlates to price (plot, basic stats dataframe) -Neil \n",
    "\n",
    "# Price regression on number of passengers (plot, stats)- Neil \n",
    "\n",
    "# Rank by cities (fare amount paid, Total distances, Most popular time of day) -Rebecca\n",
    "\n",
    "# Where are the most popular pick up locations (map, dataframe) -Turgut \n",
    "\n",
    "# Where are the most popular drop off locations (map, dataframe) -Turgut\n",
    "\n",
    "# Distance between pick up and drop off vs Price (basic stats, plot) -Daniel "
   ]
  },
  {
   "cell_type": "markdown",
   "metadata": {},
   "source": [
    "### By City: Fare Amount Paid, Most popular Time of Day, Total Distances "
   ]
  },
  {
   "cell_type": "code",
   "execution_count": 17,
   "metadata": {},
   "outputs": [
    {
     "data": {
      "image/png": "[encoded data removed]",
      "text/plain": [
       "<Figure size 432x288 with 1 Axes>"
      ]
     },
     "metadata": {
      "needs_background": "light"
     },
     "output_type": "display_data"
    },
    {
     "data": {
      "text/plain": [
       "<Figure size 432x288 with 0 Axes>"
      ]
     },
     "metadata": {},
     "output_type": "display_data"
    }
   ],
   "source": [
    "bycities=uber_df_cleaned.groupby([\"City\",\"Time of Day\"]).size().head(20).sort_values(ascending=False).unstack().plot(kind='bar', stacked=True)\n",
    "\n",
    "# Set a title for the chart\n",
    "plt.title(\"Number of Rides per Time of Day\")\n",
    "plt.ylabel(\"Number of Rides\")\n",
    "plt.xticks(rotation=45)\n",
    "plt.show()\n",
    "plt.tight_layout()"
   ]
  },
  {
   "cell_type": "code",
   "execution_count": 16,
   "metadata": {},
   "outputs": [
    {
     "data": {
      "image/png": "[encoded data removed]",
      "text/plain": [
       "<Figure size 432x288 with 1 Axes>"
      ]
     },
     "metadata": {
      "needs_background": "light"
     },
     "output_type": "display_data"
    },
    {
     "data": {
      "text/plain": [
       "<Figure size 432x288 with 0 Axes>"
      ]
     },
     "metadata": {},
     "output_type": "display_data"
    }
   ],
   "source": [
    "bycities=uber_df_cleaned.groupby([\"Time of Day\"]).size().sort_values(ascending=False).plot(kind='bar')\n",
    "\n",
    "# Set a title for the chart\n",
    "plt.title(\"Most Popular Time of Day\")\n",
    "plt.ylabel(\"Number of Rides\")\n",
    "plt.xticks(rotation=45)\n",
    "plt.show()\n",
    "plt.tight_layout()"
   ]
  },
  {
   "cell_type": "code",
   "execution_count": 32,
   "metadata": {},
   "outputs": [
    {
     "data": {
      "image/png": "[encoded data removed]",
      "text/plain": [
       "<Figure size 432x288 with 1 Axes>"
      ]
     },
     "metadata": {
      "needs_background": "light"
     },
     "output_type": "display_data"
    },
    {
     "data": {
      "text/plain": [
       "<Figure size 432x288 with 0 Axes>"
      ]
     },
     "metadata": {},
     "output_type": "display_data"
    }
   ],
   "source": [
    "bycities=uber_df_cleaned.groupby(\"City\")[\"fare_amount\"].sum().head(5).sort_values(ascending=False).plot(kind='bar')\n",
    "\n",
    "# Set a title for the chart\n",
    "plt.title(\"Top 5 Spending Cities\")\n",
    "plt.ylabel(\"Fare Amount ($)\")\n",
    "plt.xticks(rotation=45)\n",
    "plt.show()\n",
    "plt.tight_layout()"
   ]
  },
  {
   "cell_type": "code",
   "execution_count": 28,
   "metadata": {},
   "outputs": [
    {
     "data": {
      "image/png": "[encoded data removed]",
      "text/plain": [
       "<Figure size 432x288 with 1 Axes>"
      ]
     },
     "metadata": {
      "needs_background": "light"
     },
     "output_type": "display_data"
    },
    {
     "data": {
      "text/plain": [
       "<Figure size 432x288 with 0 Axes>"
      ]
     },
     "metadata": {},
     "output_type": "display_data"
    }
   ],
   "source": [
    "bycities=uber_df_cleaned.groupby(\"City\")[\"fare_amount\"].sum()\n",
    "ridespercity=uber_df_cleaned.groupby(\"City\")[\"Distance\"].count()\n",
    "\n",
    "percityspent=bycities/ridespercity\n",
    "percityspent.head(5).sort_values(ascending=False).plot(kind=\"bar\")\n",
    "\n",
    "# Set a title for the chart\n",
    "plt.title(\"Dollars Spent Per Ride in Each City\")\n",
    "plt.ylabel(\"Fare Amount ($)\")\n",
    "plt.xticks(rotation=45)\n",
    "plt.show()\n",
    "plt.tight_layout()"
   ]
  },
  {
   "cell_type": "code",
   "execution_count": 15,
   "metadata": {},
   "outputs": [
    {
     "data": {
      "image/png": "[encoded data removed]",
      "text/plain": [
       "<Figure size 432x288 with 1 Axes>"
      ]
     },
     "metadata": {
      "needs_background": "light"
     },
     "output_type": "display_data"
    },
    {
     "data": {
      "text/plain": [
       "<Figure size 432x288 with 0 Axes>"
      ]
     },
     "metadata": {},
     "output_type": "display_data"
    }
   ],
   "source": [
    "bycities=uber_df_cleaned.groupby(\"City\")[\"Distance\"].sum().head(5).sort_values(ascending=False).plot(kind='bar')\n",
    "\n",
    "# Set a title for the chart\n",
    "plt.title(\"Top 5 Cities in Distance\")\n",
    "plt.ylabel(\"Distance (mi)\")\n",
    "plt.xticks(rotation=45)\n",
    "plt.show()\n",
    "plt.tight_layout()"
   ]
  },
  {
   "cell_type": "code",
   "execution_count": 31,
   "metadata": {},
   "outputs": [
    {
     "data": {
      "image/png": "[encoded data removed]",
      "text/plain": [
       "<Figure size 432x288 with 1 Axes>"
      ]
     },
     "metadata": {
      "needs_background": "light"
     },
     "output_type": "display_data"
    },
    {
     "data": {
      "text/plain": [
       "<Figure size 432x288 with 0 Axes>"
      ]
     },
     "metadata": {},
     "output_type": "display_data"
    }
   ],
   "source": [
    "bycities=uber_df_cleaned.groupby(\"City\")[\"Distance\"].sum()\n",
    "percityspent=bycities/ridespercity\n",
    "percityspent.head(5).sort_values(ascending=False).plot(kind=\"bar\")\n",
    "# Set a title for the chart\n",
    "plt.title(\"Distance Traveled per Ride in Top 5 Cities\")\n",
    "plt.ylabel(\"Distance (mi)\")\n",
    "plt.xticks(rotation=45)\n",
    "plt.show()\n",
    "plt.tight_layout()"
   ]
  }
 ],
 "metadata": {
  "kernelspec": {
   "display_name": "Python [conda env:pythondata] *",
   "language": "python",
   "name": "conda-env-pythondata-py"
  },
  "language_info": {
   "codemirror_mode": {
    "name": "ipython",
    "version": 3
   },
   "file_extension": ".py",
   "mimetype": "text/x-python",
   "name": "python",
   "nbconvert_exporter": "python",
   "pygments_lexer": "ipython3",
   "version": "3.6.10"
  }
 },
 "nbformat": 4,
 "nbformat_minor": 4
}
