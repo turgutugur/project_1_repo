{
 "cells": [
  {
   "cell_type": "markdown",
   "metadata": {},
   "source": [
    "# Uber Data \n",
    "\n",
    "## Title (basically just your subject matter)\n",
    "\n",
    "#####  Uber Data Exploratory Data Activity \n",
    "\n",
    "## Team Members\n",
    "\n",
    "##### Rebecca Kwon \n",
    "##### Neil Tipton\n",
    "##### Daniel Garza \n",
    "##### Turgut Ozsirkinti\n",
    "##### Rose Ceigler\n",
    "\n",
    "## Research Questions - As I said, try for ~5-6 and you can always trim down to 3-4 for the actual project if your data doesn’t have the signal you were expecting.\n",
    "\n",
    "##### Most Popular Pick up times & how it correlates to price (plot, basic stats dataframe)   \n",
    "##### Where are the most popular pick up locations (map, dataframe)\n",
    "##### Price regression on number of passengers (plot, stats)\n",
    "##### Where are the most popular drop off locations (map, dataframe)\n",
    "##### Distance between pick up and drop off vs Price (basic stats, plot) \n",
    "\n",
    "##### Possibly (if extra time) could add dataset for income ( ie. do people with more money use Uber more, etc) \n",
    "\n",
    "\n",
    "## Datasets to be used - Show me a few rows of your dataset(s) and tell me how many rows there are\n",
    "##### uber.csv \n",
    "\n",
    "\n",
    "## Project Description/Outline - EX: “We are merging dataset ABC with dataset XYZ together, we may have to do some Y cleaning operation, then we plan to answer these X questions”\n",
    "\n",
    "##### Bin by time of the day ( Evening, Morning , Afternoon) \n",
    "##### Heat maps for locations \n",
    "##### Linear regressions \n",
    "##### Calculate distance between pick up and drop off \n",
    "##### Basic Stats (Sum, Avgs, etc) \n",
    "\n",
    "\n",
    "## Rough Breakdown of tasks - What are your teammates working on?\n",
    "\n",
    "##### Rebecca Kwon - Clean Up \n",
    "##### Neil Tipton - Clean Up \n",
    "##### Daniel Garza - Plots\n",
    "##### Turgut Ozsirkinti -  Maps \n",
    "##### Rose Ceigler - Presentation \n"
   ]
  }
 ],
 "metadata": {
  "kernelspec": {
   "display_name": "Python [conda env:pythondata] *",
   "language": "python",
   "name": "conda-env-pythondata-py"
  },
  "language_info": {
   "codemirror_mode": {
    "name": "ipython",
    "version": 3
   },
   "file_extension": ".py",
   "mimetype": "text/x-python",
   "name": "python",
   "nbconvert_exporter": "python",
   "pygments_lexer": "ipython3",
   "version": "3.6.10"
  }
 },
 "nbformat": 4,
 "nbformat_minor": 4
}
